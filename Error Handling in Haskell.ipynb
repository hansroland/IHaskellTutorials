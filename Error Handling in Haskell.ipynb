{
 "metadata": {
  "language": "haskell",
  "name": "",
  "signature": "sha256:a0158e8162731008eac3e136fdc0813f833640f86715f9e4ec3bcb32b6f6d19b"
 },
 "nbformat": 3,
 "nbformat_minor": 0,
 "worksheets": [
  {
   "cells": [
    {
     "cell_type": "heading",
     "level": 1,
     "metadata": {
      "hidden": false
     },
     "source": [
      "Error Handling in Haskell"
     ]
    },
    {
     "cell_type": "markdown",
     "metadata": {
      "hidden": false
     },
     "source": [
      "\n",
      "-- 8 ways to report errors in Haskell\n",
      "--\n",
      "-- See: http://www.randomhacks.net/articles/2007/03/10/haskell-8-ways-to-report-errors/\n",
      "--      http://blog.ezyang.com/2011/08/8-ways-to-report-errors-in-haskell-revisited/\n",
      "--\n",
      "-- --------------------------------------------------------------------------------------"
     ]
    },
    {
     "cell_type": "heading",
     "level": 2,
     "metadata": {
      "hidden": false
     },
     "source": [
      "Method 1: Use of the error function"
     ]
    },
    {
     "cell_type": "markdown",
     "metadata": {
      "hidden": false
     },
     "source": [
      " Not recommended, only for quick hacks!!"
     ]
    },
    {
     "cell_type": "code",
     "collapsed": false,
     "input": [
      "myDiv1 :: Float -> Float -> Float\n",
      "myDiv1 x 0 = error \"myDiv1: Division by zero\"\n",
      "myDiv1 x y = x / y\n",
      "\n",
      "\n",
      "myDiv1 5 2\n",
      "myDiv1 5 0\n"
     ],
     "language": "python",
     "metadata": {
      "hidden": false
     },
     "outputs": [
      {
       "metadata": {},
       "output_type": "display_data",
       "text": [
        "2.5"
       ]
      },
      {
       "html": [
        "<span class='err-msg'>myDiv1: Division by zero</span>"
       ],
       "metadata": {},
       "output_type": "display_data",
       "text": [
        "myDiv1: Division by zero"
       ]
      }
     ],
     "prompt_number": 6
    },
    {
     "cell_type": "heading",
     "level": 2,
     "metadata": {
      "hidden": false
     },
     "source": [
      "Method 2:  Use Maybe a "
     ]
    },
    {
     "cell_type": "markdown",
     "metadata": {
      "hidden": false
     },
     "source": [
      "Commonly used, but reporting a error reason is not possible"
     ]
    },
    {
     "cell_type": "code",
     "collapsed": false,
     "input": [
      "myDiv2 :: Float -> Float -> Maybe Float\n",
      "myDiv2 x 0 = Nothing\n",
      "myDiv2 x y = Just $ x / y\n",
      "\n",
      "example2 :: Float -> Float -> IO()\n",
      "example2 x y =\n",
      "   case myDiv2 x y of\n",
      "      Nothing -> putStrLn \"Division by zero\"\n",
      "      Just q  -> putStrLn $ show q\n",
      "\n",
      "\n",
      "-- Monadic use of Maybe\n",
      "divSum2 :: Float -> Float -> Float -> Maybe Float\n",
      "divSum2 x y z = do\n",
      "  xdy <- myDiv2 x y\n",
      "  xdz <- myDiv2 x z\n",
      "  return $ xdy + xdz\n",
      "  \n",
      "-- Examples\n",
      "myDiv2 5 0\n",
      "myDiv2 5 2\n",
      "\n",
      "divSum2 5 7 2\n",
      "divSum2 5 7 0"
     ],
     "language": "python",
     "metadata": {
      "hidden": false
     },
     "outputs": [
      {
       "metadata": {},
       "output_type": "display_data",
       "text": [
        "Nothing"
       ]
      },
      {
       "metadata": {},
       "output_type": "display_data",
       "text": [
        "Just 2.5"
       ]
      },
      {
       "metadata": {},
       "output_type": "display_data",
       "text": [
        "Just 3.2142859"
       ]
      },
      {
       "metadata": {},
       "output_type": "display_data",
       "text": [
        "Nothing"
       ]
      }
     ],
     "prompt_number": 7
    },
    {
     "cell_type": "heading",
     "level": 2,
     "metadata": {
      "hidden": false
     },
     "source": [
      "Method 3: Use Either String a"
     ]
    },
    {
     "cell_type": "code",
     "collapsed": false,
     "input": [
      "myDiv3 :: Float -> Float -> Either String Float\n",
      "myDiv3 x 0 = Left \"myDiv3: Division by zero\"\n",
      "myDiv3 x y = Right $ x / y\n",
      "-- Note: Using Strings is very bad! Use a enumerable error data type !!\n",
      "\n",
      "example3 :: Float -> Float -> IO()\n",
      "example3 x y = \n",
      "   case myDiv3 x y of\n",
      "      Left msg -> putStrLn msg\n",
      "      Right q  -> putStrLn $ show q\n",
      "\n",
      "-- Monadic use of Either (defined in Control.Monad.Error)\n",
      "divSum3 :: Float -> Float -> Float -> Either String Float\n",
      "divSum3 x y z = do\n",
      "  xdy <- myDiv3 x y\n",
      "  xdz <- myDiv3 x z\n",
      "  return $ xdy + xdz\n",
      "  \n",
      "-- Examples\n",
      "example3 5 2\n",
      "example3 5 0\n",
      "\n",
      "divSum3 5 7 2\n",
      "divSum3 5 7 0"
     ],
     "language": "python",
     "metadata": {
      "hidden": false
     },
     "outputs": [
      {
       "metadata": {},
       "output_type": "display_data",
       "text": [
        "2.5"
       ]
      },
      {
       "metadata": {},
       "output_type": "display_data",
       "text": [
        "myDiv3: Division by zero"
       ]
      },
      {
       "metadata": {},
       "output_type": "display_data",
       "text": [
        "Right 3.2142859"
       ]
      },
      {
       "metadata": {},
       "output_type": "display_data",
       "text": [
        "Left \"myDiv3: Division by zero\""
       ]
      }
     ],
     "prompt_number": 9
    },
    {
     "cell_type": "heading",
     "level": 2,
     "metadata": {
      "hidden": false
     },
     "source": [
      "Method 4: Use general Monad and fail to generalize Methods 1 -3 "
     ]
    },
    {
     "cell_type": "markdown",
     "metadata": {
      "hidden": false
     },
     "source": [
      "Not recommended !!"
     ]
    },
    {
     "cell_type": "code",
     "collapsed": false,
     "input": [
      "import Control.Monad.Instances\n",
      "\n",
      "myDiv4 :: (Monad m) => Float -> Float -> m Float\n",
      "myDiv4 x 0 = fail \"Division by zero\"\n",
      "myDiv4 x y = return $ x / y\n",
      "\n",
      "{- The following example does no longer compile .... -}\n",
      "\n",
      "{-\n",
      "example4a x y =\n",
      "   catch (do q <- myDiv4 x y\n",
      "               putStrLn (show q))\n",
      "         (\\err -> putStrLn (show err))\n",
      "-}\n",
      "\n",
      "myDiv4 5 2\n",
      "myDiv4 5 0"
     ],
     "language": "python",
     "metadata": {
      "hidden": false
     },
     "outputs": [
      {
       "metadata": {},
       "output_type": "display_data",
       "text": [
        "2.5"
       ]
      },
      {
       "html": [
        "<span class='err-msg'>user error (Division by zero)</span>"
       ],
       "metadata": {},
       "output_type": "display_data",
       "text": [
        "user error (Division by zero)"
       ]
      }
     ],
     "prompt_number": 15
    },
    {
     "cell_type": "code",
     "collapsed": false,
     "input": [],
     "language": "python",
     "metadata": {
      "hidden": false
     },
     "outputs": []
    }
   ],
   "metadata": {}
  }
 ]
}