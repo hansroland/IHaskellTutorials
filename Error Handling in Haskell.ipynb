{
 "metadata": {
  "language": "haskell",
  "name": "",
  "signature": "sha256:c767243c174983c06488871198d2d8a3e33cc07ad893c89352653f13d6c6a892"
 },
 "nbformat": 3,
 "nbformat_minor": 0,
 "worksheets": [
  {
   "cells": [
    {
     "cell_type": "heading",
     "level": 1,
     "metadata": {
      "hidden": false
     },
     "source": [
      "Error Handling in Haskell"
     ]
    },
    {
     "cell_type": "markdown",
     "metadata": {
      "hidden": false
     },
     "source": [
      "\n",
      "-- 8 ways to report errors in Haskell\n",
      "--\n",
      "-- See: http://www.randomhacks.net/articles/2007/03/10/haskell-8-ways-to-report-errors/\n",
      "--      http://blog.ezyang.com/2011/08/8-ways-to-report-errors-in-haskell-revisited/\n",
      "--\n",
      "-- --------------------------------------------------------------------------------------"
     ]
    },
    {
     "cell_type": "heading",
     "level": 2,
     "metadata": {
      "hidden": false
     },
     "source": [
      "Method 1: Use of the error function"
     ]
    },
    {
     "cell_type": "markdown",
     "metadata": {
      "hidden": false
     },
     "source": [
      " Not recommended, only for quick hacks!!"
     ]
    },
    {
     "cell_type": "code",
     "collapsed": false,
     "input": [
      "myDiv1 :: Float -> Float -> Float\n",
      "myDiv1 x 0 = error \"myDiv1: Division by zero\"\n",
      "myDiv1 x y = x / y\n",
      "\n",
      "\n",
      "myDiv1 5 2\n",
      "myDiv1 5 0\n"
     ],
     "language": "python",
     "metadata": {
      "hidden": false
     },
     "outputs": [
      {
       "metadata": {},
       "output_type": "display_data",
       "text": [
        "2.5"
       ]
      },
      {
       "html": [
        "<span class='err-msg'>myDiv1: Division by zero</span>"
       ],
       "metadata": {},
       "output_type": "display_data",
       "text": [
        "myDiv1: Division by zero"
       ]
      }
     ],
     "prompt_number": 6
    },
    {
     "cell_type": "heading",
     "level": 2,
     "metadata": {
      "hidden": false
     },
     "source": [
      "Method 2:  Use Maybe a "
     ]
    },
    {
     "cell_type": "markdown",
     "metadata": {
      "hidden": false
     },
     "source": [
      "Commonly used, but reporting a error reason is not possible"
     ]
    },
    {
     "cell_type": "code",
     "collapsed": false,
     "input": [
      "myDiv2 :: Float -> Float -> Maybe Float\n",
      "myDiv2 x 0 = Nothing\n",
      "myDiv2 x y = Just $ x / y\n",
      "\n",
      "example2 :: Float -> Float -> IO()\n",
      "example2 x y =\n",
      "   case myDiv2 x y of\n",
      "      Nothing -> putStrLn \"Division by zero\"\n",
      "      Just q  -> putStrLn $ show q\n",
      "\n",
      "\n",
      "-- Monadic use of Maybe\n",
      "divSum2 :: Float -> Float -> Float -> Maybe Float\n",
      "divSum2 x y z = do\n",
      "  xdy <- myDiv2 x y\n",
      "  xdz <- myDiv2 x z\n",
      "  return $ xdy + xdz\n",
      "  \n",
      "-- Examples\n",
      "myDiv2 5 0\n",
      "myDiv2 5 2\n",
      "\n",
      "divSum2 5 7 2\n",
      "divSum2 5 7 0"
     ],
     "language": "python",
     "metadata": {
      "hidden": false
     },
     "outputs": [
      {
       "metadata": {},
       "output_type": "display_data",
       "text": [
        "Nothing"
       ]
      },
      {
       "metadata": {},
       "output_type": "display_data",
       "text": [
        "Just 2.5"
       ]
      },
      {
       "metadata": {},
       "output_type": "display_data",
       "text": [
        "Just 3.2142859"
       ]
      },
      {
       "metadata": {},
       "output_type": "display_data",
       "text": [
        "Nothing"
       ]
      }
     ],
     "prompt_number": 7
    },
    {
     "cell_type": "heading",
     "level": 2,
     "metadata": {
      "hidden": false
     },
     "source": [
      "Method 3: Use Either String a"
     ]
    },
    {
     "cell_type": "code",
     "collapsed": false,
     "input": [
      "myDiv3 :: Float -> Float -> Either String Float\n",
      "myDiv3 x 0 = Left \"myDiv3: Division by zero\"\n",
      "myDiv3 x y = Right $ x / y\n",
      "-- Note: Using Strings is very bad! Use a enumerable error data type !!\n",
      "\n",
      "example3 :: Float -> Float -> IO()\n",
      "example3 x y = \n",
      "   case myDiv3 x y of\n",
      "      Left msg -> putStrLn msg\n",
      "      Right q  -> putStrLn $ show q\n",
      "\n",
      "-- Monadic use of Either (defined in Control.Monad.Error)\n",
      "divSum3 :: Float -> Float -> Float -> Either String Float\n",
      "divSum3 x y z = do\n",
      "  xdy <- myDiv3 x y\n",
      "  xdz <- myDiv3 x z\n",
      "  return $ xdy + xdz\n",
      "  \n",
      "-- Examples\n",
      "example3 5 2\n",
      "example3 5 0\n",
      "\n",
      "divSum3 5 7 2\n",
      "divSum3 5 7 0"
     ],
     "language": "python",
     "metadata": {
      "hidden": false
     },
     "outputs": [
      {
       "metadata": {},
       "output_type": "display_data",
       "text": [
        "2.5"
       ]
      },
      {
       "metadata": {},
       "output_type": "display_data",
       "text": [
        "myDiv3: Division by zero"
       ]
      },
      {
       "metadata": {},
       "output_type": "display_data",
       "text": [
        "Right 3.2142859"
       ]
      },
      {
       "metadata": {},
       "output_type": "display_data",
       "text": [
        "Left \"myDiv3: Division by zero\""
       ]
      }
     ],
     "prompt_number": 9
    },
    {
     "cell_type": "code",
     "collapsed": false,
     "input": [],
     "language": "python",
     "metadata": {
      "hidden": false
     },
     "outputs": []
    }
   ],
   "metadata": {}
  }
 ]
}