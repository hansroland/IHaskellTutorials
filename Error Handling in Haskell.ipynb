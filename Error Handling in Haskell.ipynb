{
 "metadata": {
  "language": "haskell",
  "name": "",
  "signature": "sha256:15757f9d778f84364ded2023d5292c9e7b619d70f6f49dc317c37c8445c45cac"
 },
 "nbformat": 3,
 "nbformat_minor": 0,
 "worksheets": [
  {
   "cells": [
    {
     "cell_type": "heading",
     "level": 1,
     "metadata": {},
     "source": [
      "Error Handling in Haskell"
     ]
    },
    {
     "cell_type": "markdown",
     "metadata": {},
     "source": [
      "\n",
      "-- 8 ways to report errors in Haskell\n",
      "--\n",
      "-- See: http://www.randomhacks.net/articles/2007/03/10/haskell-8-ways-to-report-errors/\n",
      "--      http://blog.ezyang.com/2011/08/8-ways-to-report-errors-in-haskell-revisited/\n",
      "--\n",
      "-- --------------------------------------------------------------------------------------"
     ]
    },
    {
     "cell_type": "heading",
     "level": 2,
     "metadata": {},
     "source": [
      "Method 1: Use of the error function"
     ]
    },
    {
     "cell_type": "markdown",
     "metadata": {},
     "source": [
      " Not recommended, only for quick hacks!!"
     ]
    },
    {
     "cell_type": "code",
     "collapsed": false,
     "input": [
      "myDiv1 :: Float -> Float -> Float\n",
      "myDiv1 x 0 = error \"myDiv1: Division by zero\"\n",
      "myDiv1 x y = x / y\n",
      "\n",
      "myDiv1 5 0"
     ],
     "language": "python",
     "metadata": {},
     "outputs": [
      {
       "html": [
        "<span class='err-msg'>myDiv1: Division by zero</span>"
       ],
       "metadata": {},
       "output_type": "display_data",
       "text": [
        "myDiv1: Division by zero"
       ]
      }
     ],
     "prompt_number": 2
    },
    {
     "cell_type": "code",
     "collapsed": false,
     "input": [],
     "language": "python",
     "metadata": {},
     "outputs": []
    }
   ],
   "metadata": {}
  }
 ]
}