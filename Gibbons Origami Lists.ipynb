{
 "cells": [
  {
   "cell_type": "code",
   "execution_count": 1,
   "metadata": {
    "collapsed": false
   },
   "outputs": [],
   "source": [
    "-- --------------------------------------------------\n",
    "-- Origami Lists\n",
    "-- --------------------------------------------------\n",
    "--\n",
    "-- See: Jeremy Gibbons: origami programming\n",
    "--\n",
    "-- \n",
    "-- --------------------------------------------------"
   ]
  },
  {
   "cell_type": "code",
   "execution_count": 2,
   "metadata": {
    "collapsed": false
   },
   "outputs": [],
   "source": [
    "module Origami where\n",
    "\n",
    "-- explicit definition of a list, without using Haskells built in\n",
    "data List a = Nil\n",
    "            | Cons a (List a)\n",
    "\n",
    "-- function wrap to constuct singelton lists\n",
    "wrap :: a -> List a\n",
    "wrap x = Cons x Nil\n",
    "\n",
    "-- function to detect empty lists\n",
    "nil :: List a -> Bool\n",
    "nil Nil = True\n",
    "nil _   = False\n",
    "\n",
    "-- folds for our lists\n",
    "foldrL :: (a -> b -> b) -> b -> List a -> b\n",
    "foldrL f c Nil = c\n",
    "foldrL f c (Cons x xs) = f x (foldrL f c xs)\n",
    "\n",
    "-- Make List a an instance of Show so we can print the results\n",
    "printL :: Show a => List a -> String\n",
    "printL lst = \"[\" ++ foldrL prte \"]\" lst\n",
    "  where\n",
    "   prte :: Show a => a -> String -> String\n",
    "   prte a \"]\" = show a ++ \"]\"\n",
    "   prte a b   = show a ++ \",\" ++ b\n",
    "\n",
    "instance Show a => Show (List a)\n",
    "  where show = printL\n",
    "    \n",
    "-- Exercise 3.2 Define as instances of fold equivalents of the standard prelude\n",
    "--              functions map, (++), and concat\n",
    "\n",
    "mapL :: (a -> b) -> List a -> List b\n",
    "mapL f  = foldrL (\\a b -> Cons (f a) b) Nil\n",
    "-- Note HLint complains on: mapL f lst = foldrL (\\a b -> Cons (f a) b) Nil lst\n",
    "\n",
    "appendL :: List a -> List a -> List a\n",
    "appendL la lb = foldrL Cons lb la\n",
    "\n",
    "concatL :: List (List a) -> List a\n",
    "concatL = foldrL appendL Nil\n",
    "\n",
    "-- Classic example: Use fold for insertion sort\n",
    "isort :: Ord a => List a -> List a\n",
    "isort = foldrL insert Nil\n",
    "  where\n",
    "    insert :: Ord a => a -> List a -> List a\n",
    "    insert y Nil      = wrap y\n",
    "    insert y (Cons x xs)\n",
    "       | y < x        = Cons y (Cons x xs)\n",
    "       | otherwise    = Cons x (insert y xs)"
   ]
  },
  {
   "cell_type": "code",
   "execution_count": 3,
   "metadata": {
    "collapsed": false
   },
   "outputs": [
    {
     "data": {
      "text/plain": [
       "[[1,1,1,1],[2,2,2,2],[1,2,3,4]]"
      ]
     },
     "metadata": {},
     "output_type": "display_data"
    }
   ],
   "source": [
    "-- Examples \n",
    "\n",
    "import Origami\n",
    "\n",
    "list :: List Int\n",
    "list = Cons 1 (Cons 2 (Cons 3 (Cons 4 Nil)))\n",
    "\n",
    "list1 = Cons 1 (Cons 1 (Cons 1 (Cons 1 Nil)))\n",
    "list2 = Cons 2 (Cons 2 (Cons 2 (Cons 2 Nil)))\n",
    "\n",
    "listu = Cons 4 (Cons 2 (Cons 8 (Cons 7 Nil)))\n",
    "\n",
    "llst :: List (List Int)\n",
    "llst = Cons list1 (Cons list2 (Cons list Nil))\n",
    "\n",
    "llst"
   ]
  },
  {
   "cell_type": "code",
   "execution_count": null,
   "metadata": {
    "collapsed": false
   },
   "outputs": [],
   "source": []
  }
 ],
 "metadata": {
  "kernelspec": {
   "display_name": "Haskell",
   "language": "haskell",
   "name": "haskell"
  },
  "language_info": {
   "codemirror_mode": "ihaskell",
   "file_extension": ".hs",
   "name": "haskell",
   "version": "7.10.3"
  }
 },
 "nbformat": 4,
 "nbformat_minor": 0
}
